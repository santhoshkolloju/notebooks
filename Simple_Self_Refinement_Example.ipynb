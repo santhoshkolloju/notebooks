{
  "cells": [
    {
      "cell_type": "markdown",
      "metadata": {
        "id": "view-in-github",
        "colab_type": "text"
      },
      "source": [
        "<a href=\"https://colab.research.google.com/github/santhoshkolloju/notebooks/blob/master/Simple_Self_Refinement_Example.ipynb\" target=\"_parent\"><img src=\"https://colab.research.google.com/assets/colab-badge.svg\" alt=\"Open In Colab\"/></a>"
      ]
    },
    {
      "cell_type": "code",
      "execution_count": null,
      "metadata": {
        "id": "tpnsDCfEbsqS"
      },
      "outputs": [],
      "source": [
        "import os\n",
        "import openai\n",
        "\n",
        "# set the OPENAI_API_KEY environment variable\n",
        "os.environ[\"OPENAI_API_KEY\"] = \"sk-xxxxxxxxxxxxxxxxxxxxxxxxxxxxxxxxxxxxxxxx\""
      ]
    },
    {
      "cell_type": "code",
      "execution_count": null,
      "metadata": {
        "id": "QSQMFfWKbsqT"
      },
      "outputs": [],
      "source": [
        "from IPython.display import display, Markdown\n",
        "\n",
        "def get_response(messages: str) -> str:\n",
        "    return openai.ChatCompletion.create(\n",
        "        model=\"gpt-4\",\n",
        "        messages=messages\n",
        "    )[\"choices\"][0][\"message\"]\n",
        "\n",
        "def wrap_prompt(message: str, role: str) -> dict:\n",
        "    return {\"role\": role, \"content\": message}\n",
        "\n",
        "def m_print(message: str) -> str:\n",
        "    display(Markdown(message[\"content\"]))"
      ]
    },
    {
      "cell_type": "code",
      "execution_count": null,
      "metadata": {
        "id": "7aEd_p1sbsqT",
        "outputId": "1297f237-ae94-4bb4-9b96-63c0aaeb1988"
      },
      "outputs": [
        {
          "data": {
            "text/markdown": [
              "Sure, here's a simple function in Python to calculate the Nth Fibonacci number using recursion:\n",
              "\n",
              "```python\n",
              "def fibonacci(n):\n",
              "    if n <= 0:\n",
              "        raise ValueError(\"The input for the Fibonacci sequence must be a positive integer.\")\n",
              "    elif n == 1:\n",
              "        return 0\n",
              "    elif n == 2:\n",
              "        return 1\n",
              "    else:\n",
              "        return fibonacci(n - 1) + fibonacci(n - 2)\n",
              "\n",
              "# Test the function.\n",
              "n = 10\n",
              "print(f\"The {n}th Fibonacci number is: {fibonacci(n)}\")\n",
              "```\n",
              "\n",
              "Note that this recursive approach is not the most efficient way to calculate large Fibonacci numbers due to its exponential time complexity. For larger numbers, you might want to use a more efficient approach like memoization or iteration."
            ],
            "text/plain": [
              "<IPython.core.display.Markdown object>"
            ]
          },
          "metadata": {},
          "output_type": "display_data"
        }
      ],
      "source": [
        "prompt = wrap_prompt(\"Can you write me a function in Python that calculates the Nth Fibonacci number?\", \"user\")\n",
        "system = wrap_prompt(\"You are a Python Programmer.\", \"system\")\n",
        "\n",
        "m_print(get_response([system, prompt]))"
      ]
    },
    {
      "cell_type": "code",
      "execution_count": null,
      "metadata": {
        "id": "ksq72HDVbsqT",
        "outputId": "3e0f1a67-f9e2-4c76-a242-77fb027a201a"
      },
      "outputs": [
        {
          "data": {
            "text/markdown": [
              "Here is the function that calculates the Nth Fibonacci number using recursion:\n",
              "\n",
              "```python\n",
              "def fibonacci(n):\n",
              "    if n <= 1:\n",
              "        return n\n",
              "    else:\n",
              "        return fibonacci(n - 1) + fibonacci(n - 2)\n",
              "```\n",
              "\n",
              "However, using recursion for large N may result in poor performance. To avoid this, you can use dynamic programming or memoization. Below is an example using memoization:\n",
              "\n",
              "```python\n",
              "def fibonacci_memo(n, memo=None):\n",
              "    if memo is None:\n",
              "        memo = {}\n",
              "    if n in memo:\n",
              "        return memo[n]\n",
              "    if n <= 1:\n",
              "        result = n\n",
              "    else:\n",
              "        result = fibonacci_memo(n - 1, memo) + fibonacci_memo(n - 2, memo)\n",
              "    memo[n] = result\n",
              "    return result\n",
              "```"
            ],
            "text/plain": [
              "<IPython.core.display.Markdown object>"
            ]
          },
          "metadata": {},
          "output_type": "display_data"
        },
        {
          "name": "stdout",
          "output_type": "stream",
          "text": [
            "\n",
            "\n",
            "\n"
          ]
        },
        {
          "data": {
            "text/markdown": [
              "Yes, we can optimize the code using an iterative method which has a lower time complexity (O(n)). Here's the function:\n",
              "\n",
              "```python\n",
              "def fibonacci_iter(n):\n",
              "    if n <= 1:\n",
              "        return n\n",
              "\n",
              "    fib_n_minus_2, fib_n_minus_1 = 0, 1\n",
              "    for _ in range(2, n+1):  # Iterate from 2 to n\n",
              "        fib_n = fib_n_minus_2 + fib_n_minus_1\n",
              "        fib_n_minus_2, fib_n_minus_1 = fib_n_minus_1, fib_n  # Update values for the next iteration\n",
              "    \n",
              "    return fib_n_minus_1\n",
              "```\n",
              "\n",
              "This function calculates the Nth Fibonacci number iteratively with a time complexity of O(n)."
            ],
            "text/plain": [
              "<IPython.core.display.Markdown object>"
            ]
          },
          "metadata": {},
          "output_type": "display_data"
        }
      ],
      "source": [
        "system_prompt = wrap_prompt(\"You are a Python Programmer. Please keep your answers short and concise - but use markdown.\", \"system\")\n",
        "prompt = wrap_prompt(\"Can you write me a function in Python that calculates the Nth Fibonacci number?\", \"user\")\n",
        "refine_prompt = wrap_prompt(\"Can you optimize this code to have a lower time complexity?\", \"user\")\n",
        "\n",
        "conversation = [system_prompt, prompt]\n",
        "\n",
        "initial_output = get_response(conversation)\n",
        "\n",
        "m_print(initial_output)\n",
        "\n",
        "conversation += [initial_output, refine_prompt]\n",
        "\n",
        "refined_output = get_response(conversation)\n",
        "\n",
        "print(\"\\n\\n\")\n",
        "\n",
        "m_print(refined_output)"
      ]
    },
    {
      "cell_type": "code",
      "execution_count": null,
      "metadata": {
        "id": "DZ29eYoybsqT"
      },
      "outputs": [],
      "source": [
        "def check_refinement(conversation_history: list, refinement_question: str):\n",
        "    conversation_history += [refinement_question]\n",
        "    return get_response(conversation_history)[\"content\"] == \"Yes\"\n",
        "\n",
        "refined_prompt = wrap_prompt(\"Is this as optimized as you can get it? Please only answer Yes or No. No other answers will be accepted.\", \"system\")"
      ]
    },
    {
      "cell_type": "code",
      "execution_count": null,
      "metadata": {
        "id": "SKww7HxAbsqU",
        "outputId": "58aaf1ff-50bc-4582-bfef-9c0c793b4943"
      },
      "outputs": [
        {
          "name": "stdout",
          "output_type": "stream",
          "text": [
            "\n",
            "\n",
            "\n"
          ]
        },
        {
          "data": {
            "text/markdown": [
              "Yes, we can optimize the code further using matrix exponentiation, which reduces the time complexity to O(log(n)). Here's the function:\n",
              "\n",
              "```python\n",
              "def matrix_mult(a, b):\n",
              "    result = [[0, 0],\n",
              "              [0, 0]]\n",
              "    for i in range(2):\n",
              "        for j in range(2):\n",
              "            for k in range(2):\n",
              "                result[i][j] += a[i][k] * b[k][j]\n",
              "    return result\n",
              "\n",
              "\n",
              "def matrix_pow(matrix, power):\n",
              "    if power == 1:\n",
              "        return matrix\n",
              "    elif power % 2 == 0:\n",
              "        half_pow = matrix_pow(matrix, power // 2)\n",
              "        return matrix_mult(half_pow, half_pow)\n",
              "    else:\n",
              "        return matrix_mult(matrix, matrix_pow(matrix, power - 1))\n",
              "\n",
              "\n",
              "def fibonacci_matrix(n):\n",
              "    if n <= 1:\n",
              "        return n\n",
              "\n",
              "    matrix = [[1, 1],\n",
              "              [1, 0]]\n",
              "    result_matrix = matrix_pow(matrix, n-1)\n",
              "\n",
              "    # First element of the result matrix's first row is the Fibonacci number\n",
              "    return result_matrix[0][0]\n",
              "```\n",
              "\n",
              "This function calculates the Nth Fibonacci number using matrix exponentiation with a time complexity of O(log(n))."
            ],
            "text/plain": [
              "<IPython.core.display.Markdown object>"
            ]
          },
          "metadata": {},
          "output_type": "display_data"
        },
        {
          "name": "stdout",
          "output_type": "stream",
          "text": [
            "This is as optimized as we can go.\n"
          ]
        }
      ],
      "source": [
        "conversation += [refined_output, refine_prompt]\n",
        "\n",
        "refined_output = get_response(conversation)\n",
        "\n",
        "print(\"\\n\\n\")\n",
        "\n",
        "m_print(refined_output)\n",
        "\n",
        "refined = check_refinement(conversation, refined_prompt)\n",
        "\n",
        "if refined:\n",
        "    print(\"This is as optimized as we can go.\")\n",
        "else:\n",
        "    conversation += [refined_output, refine_prompt]\n",
        "\n",
        "    refined_output = get_response(conversation)\n",
        "\n",
        "    print(\"\\n\\n\")\n",
        "\n",
        "    m_print(refined_output)"
      ]
    },
    {
      "cell_type": "code",
      "execution_count": null,
      "metadata": {
        "id": "bC1qWH8KbsqU"
      },
      "outputs": [],
      "source": [
        "def refine(conversation_history: list, refinement_prompt: dict, fully_refined_prompt: dict, n_iterations: int = 10):\n",
        "    initial_output = get_response(conversation_history)\n",
        "\n",
        "    m_print(initial_output)\n",
        "    \n",
        "    for i in range(n_iterations):\n",
        "        conversation_history += [initial_output, refinement_prompt]\n",
        "\n",
        "        refined_output = get_response(conversation_history)\n",
        "\n",
        "        print(\"\\n\\n\")\n",
        "\n",
        "        m_print(refined_output)\n",
        "\n",
        "        refined = check_refinement(conversation_history, fully_refined_prompt)\n",
        "\n",
        "        if refined:\n",
        "            print(\"This is as optimized as we can go.\")\n",
        "            break\n",
        "        \n",
        "        initial_output = refined_output"
      ]
    },
    {
      "cell_type": "code",
      "execution_count": null,
      "metadata": {
        "id": "EW2HVcWlbsqU",
        "outputId": "e3a6a1fe-bcf2-40c9-bffb-3618f6e37849"
      },
      "outputs": [
        {
          "data": {
            "text/markdown": [
              "You can achieve this by merging the two sorted arrays and then finding the median element(s) depending on the length of the merged array. Here's a Python function to do that:\n",
              "\n",
              "```python\n",
              "def findMedianSortedArrays(nums1, nums2):\n",
              "    nums = sorted(nums1 + nums2)\n",
              "    length = len(nums)\n",
              "\n",
              "    if length % 2 == 0:\n",
              "        return (nums[length//2 - 1] + nums[length//2]) / 2\n",
              "    else:\n",
              "        return nums[length//2]\n",
              "```\n",
              "\n",
              "You can use this function to find the median of two sorted arrays like this:\n",
              "\n",
              "```python\n",
              "nums1 = [1, 3]\n",
              "nums2 = [2]\n",
              "median = findMedianSortedArrays(nums1, nums2)\n",
              "print(median)  # Output: 2\n",
              "```"
            ],
            "text/plain": [
              "<IPython.core.display.Markdown object>"
            ]
          },
          "metadata": {},
          "output_type": "display_data"
        },
        {
          "name": "stdout",
          "output_type": "stream",
          "text": [
            "\n",
            "\n",
            "\n"
          ]
        },
        {
          "data": {
            "text/markdown": [
              "Sure! We can use a binary search algorithm to optimize the code and reduce the time complexity to O(log(min(m, n))). Here's the optimized version:\n",
              "\n",
              "```python\n",
              "def findMedianSortedArrays(nums1, nums2):\n",
              "    if len(nums1) > len(nums2):\n",
              "        nums1, nums2 = nums2, nums1\n",
              "\n",
              "    m, n = len(nums1), len(nums2)\n",
              "    imin, imax, half_len = 0, m, (m + n + 1) // 2\n",
              "    \n",
              "    while imin <= imax:\n",
              "        i = (imin + imax) // 2\n",
              "        j = half_len - i\n",
              "        \n",
              "        if i < m and nums2[j - 1] > nums1[i]:\n",
              "            imin = i + 1\n",
              "        elif i > 0 and nums1[i - 1] > nums2[j]:\n",
              "            imax = i - 1\n",
              "        else:\n",
              "            if i == 0: max_of_left = nums2[j - 1]\n",
              "            elif j == 0: max_of_left = nums1[i - 1]\n",
              "            else: max_of_left = max(nums1[i - 1], nums2[j - 1])\n",
              "\n",
              "            if (m + n) % 2 == 1:\n",
              "                return max_of_left\n",
              "\n",
              "            if i == m: min_of_right = nums2[j]\n",
              "            elif j == n: min_of_right = nums1[i]\n",
              "            else: min_of_right = min(nums1[i], nums2[j])\n",
              "\n",
              "            return (max_of_left + min_of_right) / 2.0\n",
              "```\n",
              "\n",
              "You can use this optimized function to find the median of two sorted arrays like this:\n",
              "\n",
              "```python\n",
              "nums1 = [1, 3]\n",
              "nums2 = [2]\n",
              "median = findMedianSortedArrays(nums1, nums2)\n",
              "print(median)  # Output: 2.0\n",
              "```"
            ],
            "text/plain": [
              "<IPython.core.display.Markdown object>"
            ]
          },
          "metadata": {},
          "output_type": "display_data"
        },
        {
          "name": "stdout",
          "output_type": "stream",
          "text": [
            "\n",
            "\n",
            "\n"
          ]
        },
        {
          "data": {
            "text/markdown": [
              "No"
            ],
            "text/plain": [
              "<IPython.core.display.Markdown object>"
            ]
          },
          "metadata": {},
          "output_type": "display_data"
        },
        {
          "name": "stdout",
          "output_type": "stream",
          "text": [
            "This is as optimized as we can go.\n"
          ]
        }
      ],
      "source": [
        "conversation = [\n",
        "    wrap_prompt(\"You are a Python Programmer. Please keep your answers short and concise - but use markdown.\", \"system\"),\n",
        "    wrap_prompt(\"Given two sorted arrays nums1 and nums2 of size m and n respectively, return the median of the two sorted arrays.\", \"user\")\n",
        "]\n",
        "\n",
        "refinement_prompt = wrap_prompt(\"Can you optimize this code to have a lower time complexity?\", \"user\")\n",
        "\n",
        "fully_refined_prompt = wrap_prompt(\"Is this as optimized as you can get it? Please only answer Yes or No. No other answers will be accepted.\", \"system\")\n",
        "\n",
        "refine(conversation, refinement_prompt, fully_refined_prompt)"
      ]
    },
    {
      "cell_type": "code",
      "execution_count": null,
      "metadata": {
        "id": "uDwdwE7rbsqU",
        "outputId": "82f1ffc7-013f-450c-f97e-a2e1cd975c8f"
      },
      "outputs": [
        {
          "data": {
            "text/markdown": [
              "I really hate going to the movies and eating terrible pizza."
            ],
            "text/plain": [
              "<IPython.core.display.Markdown object>"
            ]
          },
          "metadata": {},
          "output_type": "display_data"
        },
        {
          "name": "stdout",
          "output_type": "stream",
          "text": [
            "\n",
            "\n",
            "\n"
          ]
        },
        {
          "data": {
            "text/markdown": [
              "In my professional linguistic opinion, the sentiment is effectively reversed. The original sentence expresses positive feelings about going to the movies and eating delicious pizza. In the revised sentence, the sentiment is flipped to convey negative feelings towards the same activities by using the words \"hate\" instead of \"love\" and \"terrible\" instead of \"delicious.\" However, if we are looking for an exact reversal, we might want to ensure that each part of the sentence is equally negated. Here's an alternative reversed sentiment:\n",
              "\n",
              "I really despise staying home and eating tasteless pizza."
            ],
            "text/plain": [
              "<IPython.core.display.Markdown object>"
            ]
          },
          "metadata": {},
          "output_type": "display_data"
        },
        {
          "name": "stdout",
          "output_type": "stream",
          "text": [
            "This is as optimized as we can go.\n"
          ]
        }
      ],
      "source": [
        "conversation = [\n",
        "    wrap_prompt(\"You are a linguistic expert. Given the following sentence - can you reverse its sentiment?\", \"system\"),\n",
        "    wrap_prompt(\"I really love going to the movies and eating delicious pizza.\", \"user\")\n",
        "]\n",
        "\n",
        "refinement_prompt = wrap_prompt(\"In your professional linguistic opinion, is this sentiment exactly revered? If not, why?\", \"user\")\n",
        "\n",
        "fully_refined_prompt = wrap_prompt(\"Is this as reversed as the sentiment can be? Please answer only Yes or No. No other answers will be accepted.\", \"system\")\n",
        "\n",
        "refine(conversation, refinement_prompt, fully_refined_prompt)"
      ]
    }
  ],
  "metadata": {
    "kernelspec": {
      "display_name": "open_ai",
      "language": "python",
      "name": "python3"
    },
    "language_info": {
      "codemirror_mode": {
        "name": "ipython",
        "version": 3
      },
      "file_extension": ".py",
      "mimetype": "text/x-python",
      "name": "python",
      "nbconvert_exporter": "python",
      "pygments_lexer": "ipython3",
      "version": "3.10.10"
    },
    "orig_nbformat": 4,
    "colab": {
      "provenance": [],
      "include_colab_link": true
    }
  },
  "nbformat": 4,
  "nbformat_minor": 0
}